import cv2
import os
count = 0

cap = cv2.VideoCapture('./video/train_vid.mp4')
success, image = cap.read()

# creating a folder if it doesn't exist
if not os.path.exists('./frames'):
    os.mkdir('./frames')
print(success)
while success:
    success, image = cap.read()

    if not success:
        break

    cv2.imwrite('./frames/' + str(count) + '.jpg', image)

    # if cv2.waitKey(10) == 27:
    #     break
    count += 1
    count = 0
    for files in os.listdir('./video/'):
        cap = cv2.VideoCapture(os.path.join('./video/', files))
        success, image = cap.read()

        # creating a folder if it doesn't exist
        if not os.path.exists('./frames'):
            os.mkdir('./frames')
        print(success)
        while success:
            success, image = cap.read()

            if not success:
                break

            cv2.imwrite('./frames/' + str(count) + '.jpg', image)

            # if cv2.waitKey(10) == 27:
            #     break
            count += 1
